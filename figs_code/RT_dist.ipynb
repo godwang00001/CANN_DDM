{
 "cells": [
  {
   "cell_type": "code",
   "execution_count": 1,
   "metadata": {},
   "outputs": [],
   "source": [
    "import sys\n",
    "sys.path.append('..')\n",
    "from network_rt_simulation import NetworkSimulator\n",
    "from matplotlib import pyplot as plt\n",
    "from scipy import stats\n",
    "#from statsmodels.graphics.gofplots import qqplot_2samples \n",
    "import numpy as np\n",
    "from plotting_utils import plot_rt_distribution, display_1D_dyn"
   ]
  },
  {
   "cell_type": "markdown",
   "metadata": {},
   "source": [
    "### Define the parameters for the DDM and neural circuit model, find the optimal $c_1$ that minimizes the error\n",
    "\n",
    "\n"
   ]
  },
  {
   "cell_type": "code",
   "execution_count": 2,
   "metadata": {},
   "outputs": [],
   "source": [
    "# Load saved RT data\n",
    "DDM_params = {\n",
    "    'v': .5,\n",
    "    'sig_W': .5,\n",
    "    'boundary': .7,\n",
    "    'dt':1.,\n",
    "    'dt_DDM': 25.\n",
    "}\n",
    "\n",
    "CANN_params = {\n",
    "    'dur1': 500,\n",
    "    'dur2': 5500,\n",
    "    'edge_type': 'tanh', \n",
    "    'num': 1024,\n",
    "    'tau_bump': 0.08,\n",
    "    'tau_edge': 4,\n",
    "    'beta': 2,\n",
    "    'sigma_edge': 2,\n",
    "    'offset': 3.85,\n",
    "    'delta_z': 1/40,\n",
    "    'J0_bump': 4,\n",
    "    'J0_edge': 1,\n",
    "    'a': 0.25,\n",
    "    'A': 10,\n",
    "    'c2': 1\n",
    "}\n",
    "CANN_params.update({'c1': 2.563})\n",
    "c1_range = np.linspace(0.1, 4, 20)\n",
    "mon_vars = ['s_pos', 'clicks_left', 'clicks_right']\n",
    "Simulator = NetworkSimulator(DDM_params, CANN_params, mon_vars=mon_vars, save_runner=True, c1_range=c1_range)"
   ]
  },
  {
   "cell_type": "markdown",
   "metadata": {},
   "source": [
    "### Simulate 1000 trials\n"
   ]
  },
  {
   "cell_type": "code",
   "execution_count": 3,
   "metadata": {},
   "outputs": [
    {
     "ename": "",
     "evalue": "",
     "output_type": "error",
     "traceback": [
      "\u001b[1;31mThe Kernel crashed while executing code in the current cell or a previous cell. \n",
      "\u001b[1;31mPlease review the code in the cell(s) to identify a possible cause of the failure. \n",
      "\u001b[1;31mClick <a href='https://aka.ms/vscodeJupyterKernelCrash'>here</a> for more info. \n",
      "\u001b[1;31mView Jupyter <a href='command:jupyter.viewOutput'>log</a> for further details."
     ]
    }
   ],
   "source": [
    "### use command if running >1k trials\n",
    "# num_trials = 100\n",
    "# batch_size = 10\n",
    "# RT_sim_corr, RT_sim_incorr = Simulator.simulate_network(num_trials=num_trials, batch_size=batch_size)\n",
    "\n",
    "### to simulate more trials try \"python run_simulation.py --num_trials 1000 --batch_size 100\""
   ]
  },
  {
   "cell_type": "markdown",
   "metadata": {},
   "source": [
    "### plot RT distribution"
   ]
  },
  {
   "cell_type": "markdown",
   "metadata": {},
   "source": [
    "num_trials = 500\n",
    "RT_sim_corr = np.load('RT_corr.npy')\n",
    "RT_sim_incorr = np.load('RT_incorr.npy')\n",
    "max_steps = int(CANN_params['dur2'] * 0.9)\n",
    "# Run dice simulation with same parameters\n",
    "RT_dice_corr, RT_dice_incorr = Simulator.generate_dice_RT(n_trials=num_trials, max_steps=max_steps)\n",
    "\n",
    "\n",
    "\n",
    "# Plot RT distributions\n",
    "plot_rt_distribution(\n",
    "    RT_sim_corr, RT_sim_incorr,\n",
    "    RT_dice_corr, RT_dice_incorr,\n",
    "    show_plot=True\n",
    ")"
   ]
  }
 ],
 "metadata": {
  "kernelspec": {
   "display_name": "CANN",
   "language": "python",
   "name": "python3"
  },
  "language_info": {
   "name": "python",
   "version": "3.9.21"
  }
 },
 "nbformat": 4,
 "nbformat_minor": 2
}
